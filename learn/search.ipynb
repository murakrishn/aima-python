{
 "cells": [
  {
   "cell_type": "markdown",
   "metadata": {},
   "source": [
    "# Solving problems by Searching\n",
    "This notebook replicates the teachings of **Chapter 3 - Solving Problems by Searching** and **Chapter 4 - Beyond Classical Search** of AI: A Modern Approach (3rd edition)."
   ]
  },
  {
   "cell_type": "markdown",
   "metadata": {},
   "source": [
    "from search import *"
   ]
  }
 ],
 "metadata": {
  "language_info": {
   "name": "python"
  },
  "orig_nbformat": 4
 },
 "nbformat": 4,
 "nbformat_minor": 2
}
